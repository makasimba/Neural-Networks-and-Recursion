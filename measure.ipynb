{
 "cells": [
  {
   "cell_type": "code",
   "execution_count": 12,
   "metadata": {},
   "outputs": [],
   "source": [
    "import pandas as pd\n",
    "import numpy as np\n",
    "import matplotlib.pyplot as plt\n",
    "\n",
    "np.random.seed(1234)"
   ]
  },
  {
   "cell_type": "code",
   "execution_count": 13,
   "metadata": {},
   "outputs": [],
   "source": [
    "df = pd.read_csv(\"data_banknote_authentication.txt\", index_col=False)\n",
    "df = df.sample(frac=1.0)"
   ]
  },
  {
   "cell_type": "code",
   "execution_count": 14,
   "metadata": {},
   "outputs": [
    {
     "name": "stdout",
     "output_type": "stream",
     "text": [
      "<class 'pandas.core.frame.DataFrame'>\n",
      "Int64Index: 1372 entries, 266 to 815\n",
      "Data columns (total 5 columns):\n",
      " #   Column  Non-Null Count  Dtype  \n",
      "---  ------  --------------  -----  \n",
      " 0   A       1372 non-null   float64\n",
      " 1   B       1372 non-null   float64\n",
      " 2   C       1372 non-null   float64\n",
      " 3   D       1372 non-null   float64\n",
      " 4   Y       1372 non-null   int64  \n",
      "dtypes: float64(4), int64(1)\n",
      "memory usage: 64.3 KB\n"
     ]
    }
   ],
   "source": [
    "df.info()"
   ]
  },
  {
   "cell_type": "code",
   "execution_count": 15,
   "metadata": {},
   "outputs": [],
   "source": [
    "X, y = df.iloc[:, :4], df.iloc[:, 4]"
   ]
  },
  {
   "cell_type": "code",
   "execution_count": 16,
   "metadata": {},
   "outputs": [
    {
     "name": "stdout",
     "output_type": "stream",
     "text": [
      "1096\n"
     ]
    }
   ],
   "source": [
    "s = int(1371 * 0.8)\n",
    "print(s)"
   ]
  },
  {
   "cell_type": "code",
   "execution_count": 17,
   "metadata": {},
   "outputs": [],
   "source": [
    "X, X_val = X.iloc[:s, :], X.iloc[s:, :]\n",
    "y, y_val = y.iloc[:s], y.iloc[s:]"
   ]
  },
  {
   "cell_type": "code",
   "execution_count": 18,
   "metadata": {},
   "outputs": [],
   "source": [
    "X, X_val = X.values, X_val.values\n",
    "y, y_val = y.values, y_val.values\n"
   ]
  },
  {
   "cell_type": "code",
   "execution_count": 19,
   "metadata": {},
   "outputs": [
    {
     "name": "stdout",
     "output_type": "stream",
     "text": [
      "(4, 1096) (1, 1096)\n"
     ]
    }
   ],
   "source": [
    "X = X.T\n",
    "y = np.reshape(y, newshape=(1, np.size(y, 0)))\n",
    "print(np.shape(X), np.shape(y))"
   ]
  },
  {
   "cell_type": "code",
   "execution_count": 20,
   "metadata": {},
   "outputs": [
    {
     "name": "stdout",
     "output_type": "stream",
     "text": [
      "(4, 276) (1, 276)\n"
     ]
    }
   ],
   "source": [
    "X_val = X_val.T\n",
    "y_val = np.reshape(y_val, newshape=(1, np.size(y_val, 0)))\n",
    "print(np.shape(X_val), np.shape(y_val))"
   ]
  },
  {
   "cell_type": "code",
   "execution_count": null,
   "metadata": {},
   "outputs": [],
   "source": [
    "%%timeit\n",
    "from course_implementation import L_layer_model\n",
    "from recursion_implementation import predict\n",
    "\n",
    "np.random.seed(1234)\n",
    "\n",
    "\n",
    "%memit parameters, costs = L_layer_model(X, y, (4, 1), num_iterations=5_000)\n",
    "\n",
    "y_hat, acc = predict(parameters, hyperparameters=None, A=X_val, Y=y_val, evaluation=True)\n",
    "print(\"Model accuracy =\", acc)"
   ]
  },
  {
   "cell_type": "code",
   "execution_count": null,
   "metadata": {},
   "outputs": [],
   "source": [
    "%%timeit\n",
    "\n",
    "from recursion_implementation import nn_model, relu, sigmoid, predict\n",
    "\n",
    "np.random.seed(1234)\n",
    "\n",
    "hyperparameters = {\n",
    "    \"nn_structure\": (4, 1),\n",
    "    \"epochs\": 5_000,\n",
    "    \"lr\": 0.0075,\n",
    "    \"nonlinear_functions\": {\"relu\": relu, \"sigmoid\": sigmoid},\n",
    "    \"L\": 1,\n",
    "}\n",
    "\n",
    "%memit parameters, costs = nn_model(X, y, hyperparameters)\n",
    "\n",
    "y_hat, acc = predict(parameters, hyperparameters, X_val, y_val, evaluation=True)\n",
    "print(\"Model accuracy =\", acc)"
   ]
  }
 ],
 "metadata": {
  "kernelspec": {
   "display_name": "torch",
   "language": "python",
   "name": "python3"
  },
  "language_info": {
   "codemirror_mode": {
    "name": "ipython",
    "version": 3
   },
   "file_extension": ".py",
   "mimetype": "text/x-python",
   "name": "python",
   "nbconvert_exporter": "python",
   "pygments_lexer": "ipython3",
   "version": "3.10.8"
  },
  "orig_nbformat": 4
 },
 "nbformat": 4,
 "nbformat_minor": 2
}
